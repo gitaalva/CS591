{
 "cells": [
  {
   "cell_type": "markdown",
   "metadata": {},
   "source": [
    "(In order to load the stylesheet of this notebook, execute the last code cell in this notebook)"
   ]
  },
  {
   "cell_type": "markdown",
   "metadata": {},
   "source": [
    "# Recommender System for Amazon Electronics"
   ]
  },
  {
   "cell_type": "markdown",
   "metadata": {},
   "source": [
    "In this assignment, we will be working with the [Amazon dataset](http://cs-people.bu.edu/kzhao/teaching/amazon_reviews_Electronics.tar.gz). You will build a recommender system to make predictions related to reviews of Electronics products on Amazon.\n",
    "\n",
    "Your grades will be determined by your performance on the predictive tasks as well as a brief written report about the approaches you took.\n",
    "\n",
    "This assignment should be completed **individually**."
   ]
  },
  {
   "cell_type": "markdown",
   "metadata": {},
   "source": [
    "## Files"
   ]
  },
  {
   "cell_type": "markdown",
   "metadata": {},
   "source": [
    "**train.json** 1,000,000 reviews to be used for training. It is not necessary to use all reviews for training if doing so proves too computationally intensive. The fields in this file are:\n",
    "\n",
    "* **reviewerID** The ID of the reviewer. This is a hashed user identifier from Amazon.\n",
    "\n",
    "* **asin** The ID of the item. This is a hashed product identifier from Amazon.\n",
    "\n",
    "* **overall** The rating of reviewer gave the item.\n",
    "\n",
    "* **helpful** The helpfulness votes for the review. This has 2 subfields, 'nHelpful' and 'outOf'. The latter is the total number of votes this review received. The former is the number of those that considered the review to be helpful.\n",
    "\n",
    "* **reviewText** The text of the review.\n",
    "\n",
    "* **summary** The summary of the review.\n",
    "\n",
    "* **unixReviewTime** The time of the review in seconds since 1970."
   ]
  },
  {
   "cell_type": "markdown",
   "metadata": {},
   "source": [
    "**meta.json** Contains metadata of the items:\n",
    "\n",
    "* **asin** The ID of the item.\n",
    "\n",
    "* **categories** The category labels of the item being reviewed.\n",
    "\n",
    "* **price** The price of the item.\n",
    "\n",
    "* **brand** The brand of the item."
   ]
  },
  {
   "cell_type": "markdown",
   "metadata": {},
   "source": [
    "**pairs_Rating.txt** The pairs (reviewerID and asin) on which you are to predict ratings.\n",
    "\n",
    "**pairs_Purchase.txt** The pairs on which you are to predict whether a user purchased an item or not.\n",
    "\n",
    "**pairs_Helpful.txt** The pairs on which you are to predict helpfulness votes. A third column in this file is the total number of votes from which you should predict how many were helpful."
   ]
  },
  {
   "cell_type": "markdown",
   "metadata": {},
   "source": [
    "**helpful.json** The review data associated with the helpfulness prediction test set. The 'nHelpful' field has been removed from this data since that is the value you need to predict above. This data will only be of use for the helpfulness prediction task."
   ]
  },
  {
   "cell_type": "markdown",
   "metadata": {},
   "source": [
    "**baseline.py** A simple baseline for each task."
   ]
  },
  {
   "cell_type": "markdown",
   "metadata": {
    "collapsed": true
   },
   "source": [
    "## Tasks"
   ]
  },
  {
   "cell_type": "markdown",
   "metadata": {},
   "source": [
    "**Rating prediction** Predict people's star ratings as accurately as possible for those (reviewerID, asin) pairs in 'pairs_Rating.txt'. Accuracy will be measured in terms of the [root mean-squared error (RMSE)](http://www.kaggle.com/wiki/RootMeanSquaredError).\n",
    "\n",
    "**Purchase prediction** Predict given a (reviewerID, asin) pair from 'pairs_Purchase.txt' whether the user purchased the item (really, whether it was one of the items they reviewed). Accuracy will be measured in terms of the [categorization accuracy](http://www.kaggle.com/wiki/HammingLoss) (1 minus the Hamming loss).\n",
    "\n",
    "**Helpfulness prediction** Predic whether a user's review of an item will be considered helpful. The file 'pairs_Helpful.txt' contains (reviewerID, asin) pairs with a third column containing the number of votes the user's review of the item received. You must predict how many of them were helpful. Accuracy will be measured in terms of the total [absolute error](http://www.kaggle.com/wiki/AbsoluteError), i.e. you are penalized one according to the difference |nHelpful - prediction|, where 'nHelpful' is the number of helpful votes the review actually received, and 'prediction' is your prediction of this quantity.\n",
    "\n",
    "We set up competitions on Kaggle to keep track of your results compared to those of other members of the class. The leaderboard will show your results on half of the test data, but your ultimate score will depend on your predictions across the whole dataset.\n",
    "* Kaggle competition: [rating prediction](https://inclass.kaggle.com/c/cs591-hw3-rating-prediction3) click here to [join](https://kaggle.com/join/datascience16rating)\n",
    "* Kaggle competition: [purchase prediction](https://inclass.kaggle.com/c/cs591-hw3-purchase-prediction) click here to [join](https://kaggle.com/join/datascience16purchase)\n",
    "* Kaggle competition: [helpfulness prediction](https://inclass.kaggle.com/c/cs591-hw3-helpful-prediction) click here to [join](https://kaggle.com/join/datascience16helpful)"
   ]
  },
  {
   "cell_type": "markdown",
   "metadata": {},
   "source": [
    "## Grading and Evaluation"
   ]
  },
  {
   "cell_type": "markdown",
   "metadata": {},
   "source": [
    "You will be graded on the following aspects.\n",
    "\n",
    "* Your written report. This should describe the approaches you took to each of the 3 tasks. To obtain good performance, you should not need to invent new approaches (though you are more than welcome to) but rather you will be graded based on your decision to apply reasonable approaches to each of the given tasks. (**10pts** for each task)\n",
    "\n",
    "* Your ability to obtain a solution which outperforms the baselines on the unseen portion of the test data. Obtaining full marks requires a solution which is substantially better (at least several percent) than baseline performance. (**10pts** for each task)\n",
    "\n",
    "* Your ranking for each of the three tasks compared to other students in the class. (**5pts** for each task)\n",
    "\n",
    "* Obtain a solution which outperforms the baselines on the seen portion of the test data (the leaderboard). \n",
    "(**5pts** for each task)"
   ]
  },
  {
   "cell_type": "markdown",
   "metadata": {},
   "source": [
    "## Baselines"
   ]
  },
  {
   "cell_type": "markdown",
   "metadata": {},
   "source": [
    "Simple baselines have been provided for each of the 3 tasks. These are included in 'baselines.py' among the files above. These 3 baselines operate as follows:\n",
    "\n",
    "**Rating prediction** Returns the global average rating, or the user's average if you have seen them before in the training data.\n",
    "\n",
    "**Purchase prediction** Finds the most popular products that account for 50% of purchases in the training data. Return '1' whenever such a product is seen at test time, '0' otherwise.\n",
    "\n",
    "** Helpfulness prediction** Multiplies the number of votes by the global average helpfulness rate, or the user's rate if we saw this user in the training data.\n",
    "\n",
    "Running 'baseline.py' produces 3 files containing predicted outputs. Your submission files should have the same format."
   ]
  },
  {
   "cell_type": "markdown",
   "metadata": {},
   "source": [
    "## Dataset Citation"
   ]
  },
  {
   "cell_type": "markdown",
   "metadata": {},
   "source": [
    "**Image-based recommendations on styles and substitutes** J. McAuley, C. Targett, J. Shi, A. van den Hengel *SIGIR*, 2015\n",
    "\n",
    "**Inferring networks of substitutable and complementary products** J. McAuley, R. Pandey, J. Leskovec *Knowledge Discovery and Data Mining*, 2015"
   ]
  },
  {
   "cell_type": "markdown",
   "metadata": {},
   "source": [
    "Rating prediction:\n",
    "\n",
    "For rating prediction I started with baseline. The baseline calculation just incorporates the users average if available. If the users average is not available the globalaverage rating is assigned. \n",
    "\n",
    "1) Item Rating:\n",
    "The first method I took is to consider item rating without user rating, since better prediction of user-item pair rating should come from item rating. If an item has a higher average rating users are more likely to rate it highly, if the item has a lower rating the users are more likely to give it lower rating. This improved the baseline results.\n",
    "\n",
    "2) Combination of Item and User Rating:\n",
    "I tried a combination of item and user rating to give the rating prediction. For every item and user in the training set, I calculated the average rating for each user and item, and then based on these ratings I calculated the prediction rating as follows:\n",
    "    If user and item both exist in training set: predictrating = (globalAverage+userAverage+itemAverage)/3\n",
    "    or\n",
    "    If only user in training set : predictrating = (globalAverage+userAverage)/2\n",
    "    or \n",
    "    If item in training set:predictrating=(globalAverage+itemAverage/)2)\n",
    "    else:\n",
    "        predictrating = globalAverage\n",
    "\n",
    "The above logic significantly improved the baseline result. Please refer to the code below.\n",
    "\n",
    "3) Cluster the item dataset :\n",
    "Tried to use neighbourhood based methods on the user-item matrix. Got the entire dataset as a matrix by mapping reviewerID and itemId to integers and storing them in a dictionary. Got a numpy array representing the utility matrix.\n",
    "Could not proceed with the above step as the dataset is too huge.\n",
    "\n",
    "4) Stochastic Gradient Descent:\n",
    "The final method that I tried was Stochastic gradient descent. Using stochastic gradient descent I tried to learn the bias of the user and the bias of the item. I shuffled the training dataset, split it into test (100000)and train (900000) items. I added the regularisation factor and tried to learn underlying bias.\n",
    "\n",
    "The above method was tried for various values of lamda. I looked into the graph of the error function and also the RMSE after each iteration of stochastic gradient descent. On my training set I could get RMSE result of 1.38 using the above method.\n",
    "\n",
    "I also incorporated matrix factorisation into the above method:\n",
    "Took two matrix of M*k and N*k (M= Total Number of Reviewers) (N= Total Number of Items). I tried various values of k and checked if I could improve the RMSE error on my test set. The value of k that worked best for me was 10. Lamba = 1. The learning rate that I used was 0.02. The RMSE error on the kaggle dataset was 1.38\n",
    "\n",
    "The code for the method 2 and method 4 have been included below. (Method 1 is just Method 2 excluding userAverage.)\n",
    "\n",
    "\n"
   ]
  },
  {
   "cell_type": "markdown",
   "metadata": {},
   "source": [
    "-----------------"
   ]
  },
  {
   "cell_type": "code",
   "execution_count": 2,
   "metadata": {
    "collapsed": true
   },
   "outputs": [],
   "source": [
    "import pandas as pd\n",
    "import matplotlib.pyplot as plt\n",
    "import json\n",
    "import nltk\n",
    "from math import sqrt\n",
    "import numpy as np\n",
    "from collections import defaultdict\n",
    "def readJson(f):\n",
    "    for l in open(f):\n",
    "        yield eval(l)"
   ]
  },
  {
   "cell_type": "markdown",
   "metadata": {},
   "source": [
    "Below method considers the average rating and item average"
   ]
  },
  {
   "cell_type": "code",
   "execution_count": 5,
   "metadata": {
    "collapsed": false
   },
   "outputs": [
    {
     "name": "stdout",
     "output_type": "stream",
     "text": [
      "3.837538\n"
     ]
    }
   ],
   "source": [
    "allRatings = []\n",
    "itemRatings = defaultdict(list)\n",
    "userRatings = defaultdict(list)\n",
    "for l in readJson('train.json'):\n",
    "    user,item = l['reviewerID'],l['asin']\n",
    "    allRatings.append(l['overall'])\n",
    "    userRatings[user].append(l['overall'])\n",
    "    itemRatings[item].append(l['overall'])\n",
    "\n",
    "globalAverage = sum(allRatings) / len(allRatings)\n",
    "print globalAverage\n",
    "userAverage = {}\n",
    "for u in userRatings:\n",
    "    userAverage[u] = sum(userRatings[u]) / len(userRatings[u])\n",
    "\n",
    "itemAverage = {}\n",
    "for i in itemRatings:\n",
    "    itemAverage[i] = sum(itemRatings[i])/len(itemRatings[i])\n",
    "\n",
    "predictions = open(\"Fpredictions_RatingAvg.txt\", 'w')\n",
    "\n",
    "for l in open(\"pairs_Rating.txt\"):\n",
    "    if l.startswith(\"reviewerID\"):\n",
    "    #header\n",
    "        predictions.write(l)\n",
    "        continue\n",
    "    u,i = l.strip().split('-')\n",
    "    if u in userAverage:\n",
    "        if i in itemAverage:\n",
    "            predictions.write(u + '-' + i + ',' + str((globalAverage+userAverage[u]+itemAverage[i])/3) + '\\n')\n",
    "        else:\n",
    "            predictions.write(u + '-' + i + ',' + str((globalAverage+userAverage[u])/2) + '\\n')\n",
    "    elif (i in itemAverage):\n",
    "        predictions.write(u + '-' + i + ',' + str((globalAverage+itemAverage[i])/2) + '\\n')\n",
    "    else:\n",
    "        predictions.write(u + '-' + i + ',' + str(globalAverage) + '\\n')\n",
    "predictions.close()"
   ]
  },
  {
   "cell_type": "markdown",
   "metadata": {},
   "source": [
    "In the below code I read the data in train.json which I have shuffled to perform gradient descent. The shuffled file is train_shuffled.json"
   ]
  },
  {
   "cell_type": "code",
   "execution_count": 6,
   "metadata": {
    "collapsed": false
   },
   "outputs": [],
   "source": [
    "allRatings = []\n",
    "\n",
    "itemRatings = defaultdict(list)\n",
    "userRatings = defaultdict(list)\n",
    "\n",
    "for l in readJson('train_shuffled.json'):\n",
    "    user,item,overall,helpful,outof,unixReviewTime = l['reviewerID'],l['asin'],float(l['overall']),float(l['helpful']['nHelpful']),float(l['helpful']['outOf']),int(l['unixReviewTime'])\n",
    "    review =[user,item,overall,(helpful/outof)]\n",
    "    userRatings[user].append(l['overall'])\n",
    "    itemRatings[item].append(l['overall'])\n",
    "    allRatings.append(review)\n",
    "\n",
    "#completedf = pd.DataFrame(allRatings, columns = ['reviewerID','itemId','overall','helpful','outOf','unixReviewTime'])\n",
    "completedf = pd.DataFrame(allRatings, columns = ['reviewerID','itemId','overall','helpful'])\n",
    "\n"
   ]
  },
  {
   "cell_type": "markdown",
   "metadata": {},
   "source": [
    "The below code was used to split the dataset to train and test."
   ]
  },
  {
   "cell_type": "code",
   "execution_count": null,
   "metadata": {
    "collapsed": true
   },
   "outputs": [],
   "source": [
    "'''\n",
    "# We will now split our dataset in train and test. Don't run this code twice\n",
    "testdf = completedf.tail(100000)\n",
    "testdf.shape\n",
    "completedf.shape\n",
    "completedf = completedf.head(900000)\n",
    "completedf.shape\n",
    "'''"
   ]
  },
  {
   "cell_type": "code",
   "execution_count": 7,
   "metadata": {
    "collapsed": true
   },
   "outputs": [],
   "source": [
    "# We will build a dictionary for our dataset. We convert each itemid and userid to int values\n",
    "userIdDict = {}\n",
    "itemIdDict = {}\n",
    "usercount=0\n",
    "itemcount=0\n",
    "uniqueuser = completedf.reviewerID.unique()\n",
    "for reviewerID in uniqueuser:\n",
    "    userIdDict[reviewerID]=usercount\n",
    "    usercount+=1\n",
    "    \n",
    "uniqueitem = completedf.itemId.unique()\n",
    "for itemID in uniqueitem:\n",
    "    itemIdDict[itemID]=itemcount\n",
    "    itemcount+=1\n",
    "\n",
    "completedf['reviewerID'] = completedf['reviewerID'].apply(lambda x:int(userIdDict[x]))\n",
    "completedf['itemId'] = completedf['itemId'].apply(lambda x:int(itemIdDict[x]))"
   ]
  },
  {
   "cell_type": "code",
   "execution_count": 8,
   "metadata": {
    "collapsed": false
   },
   "outputs": [
    {
     "name": "stdout",
     "output_type": "stream",
     "text": [
      "509678\n",
      "171185\n"
     ]
    }
   ],
   "source": [
    "usersize = len(userIdDict)\n",
    "itemsize = len(itemIdDict)\n",
    "print usersize\n",
    "print itemsize"
   ]
  },
  {
   "cell_type": "markdown",
   "metadata": {},
   "source": [
    "Here I initialize all the values for stochastic gradient descent. I have repeatedly executed the code from here to end of RMSE function(The following lines of code represent a single execution) to check for different values so as to be able to get good results."
   ]
  },
  {
   "cell_type": "code",
   "execution_count": 9,
   "metadata": {
    "collapsed": false
   },
   "outputs": [
    {
     "name": "stdout",
     "output_type": "stream",
     "text": [
      "(509678, 10)\n",
      "(171185, 10)\n",
      "(10, 171185)\n",
      "[ 0.00448453  0.66157183  0.29305201  0.17239977  0.13005402]\n",
      "[ 0.74133357  0.26111768  0.7235812   0.46201906  0.1985966 ]\n",
      "[ 0.87313817  0.55075304  0.73461606  0.71771175  0.32569459  0.6661297\n",
      "  0.11608855  0.57858375  0.04493875  0.62666215]\n",
      "[ 0.57575296  0.02546309  0.29962361  0.27053995  0.43922597  0.24309991\n",
      "  0.00471176  0.36808753  0.97094418  0.138595  ]\n"
     ]
    }
   ],
   "source": [
    "k=10\n",
    "bu = np.random.rand(usersize)\n",
    "bi = np.random.rand(itemsize)\n",
    "pu = np.random.rand(usersize,k)\n",
    "qi = np.random.rand(itemsize,k)\n",
    "lamda = 0.002\n",
    "learningrate = 0.02\n",
    "errorlist = []\n",
    "print pu.shape\n",
    "print qi.shape\n",
    "qi = qi.T\n",
    "print qi.shape\n",
    "print bu[0:5]\n",
    "print bi[0:5]\n",
    "print pu[0,:]\n",
    "print qi[:,0]"
   ]
  },
  {
   "cell_type": "markdown",
   "metadata": {},
   "source": [
    "I repeatedly run the code below checking the error graph which has been shown below. The number of times to repeat the\n",
    "the stochastic gradient descent is decided based on the error and the RMSE error. I have only included the final code\n",
    "that will learn on the entire dataset, while testing I have split my train dataset to change factors such as lambda,\n",
    "learning rate, k and to see its impact on error graph and RMSE. I have commented the code to include Matrix Factorisation. I have tried both the methods and since I did not get major improvement on the prediction including matrix factorisation and since it increases the running time, it has been commented. The code could be run by uncommenting."
   ]
  },
  {
   "cell_type": "code",
   "execution_count": 31,
   "metadata": {
    "collapsed": true
   },
   "outputs": [],
   "source": [
    "#def stochastic_gradient_descent():\n",
    "learningrate = 0.02\n",
    "for i in range(5):\n",
    "    errorlist = []\n",
    "    globalAverage = 3.837538\n",
    "    for i in range(len(completedf)):\n",
    "        userid = completedf['reviewerID'][i]\n",
    "        itemid = completedf['itemId'][i]\n",
    "        error = completedf['overall'][i]-(globalAverage+bu[userid]+bi[itemid])#+np.dot(pu[userid,:],qi[:,itemid])\n",
    "        bu[userid]=bu[userid]+(learningrate*(error-(lamda*bu[userid])))\n",
    "        bi[itemid]=bi[itemid]+(learningrate*(error-(lamda*bi[itemid])))\n",
    "        #qcol = qi[:,itemid]+(learningrate*(error*pu[userid,:]-lamda*qi[:,itemid]))\n",
    "        #prow = pu[userid,:]+(learningrate*(error*qi[:,itemid]-lamda*pu[userid,:]))\n",
    "        #qi[:,itemid]=qcol\n",
    "        #pu[userid,:]=prow\n",
    "        errorlist.append(error)"
   ]
  },
  {
   "cell_type": "markdown",
   "metadata": {},
   "source": [
    "The below code averages the error of the SGD and see how it decreases. This is used to judge convergence."
   ]
  },
  {
   "cell_type": "code",
   "execution_count": 18,
   "metadata": {
    "collapsed": false
   },
   "outputs": [
    {
     "data": {
      "image/png": "[encoded data removed]",
      "text/plain": [
       "<matplotlib.figure.Figure at 0x117f3bed0>"
      ]
     },
     "metadata": {},
     "output_type": "display_data"
    }
   ],
   "source": [
    "import matplotlib.pyplot as plt\n",
    "%matplotlib inline\n",
    "initial = 0\n",
    "averageerror = []\n",
    "for i in range(1,90):\n",
    "    final = i*10000\n",
    "    average = sum(errorlist[initial:final])/10000\n",
    "    averageerror.append(average)\n",
    "    initial = final\n",
    "plt.plot(averageerror)\n",
    "plt.show()"
   ]
  },
  {
   "cell_type": "code",
   "execution_count": 12,
   "metadata": {
    "collapsed": true
   },
   "outputs": [],
   "source": [
    "def getRMSE(df):\n",
    "    df['error']=(df['prediction']-df['overall'])\n",
    "    df['error']=df['error'].apply(lambda x:x*x)\n",
    "    RMSE = sqrt((sum(df['error']))/float(len(df)))\n",
    "    print RMSE"
   ]
  },
  {
   "cell_type": "code",
   "execution_count": 19,
   "metadata": {
    "collapsed": true
   },
   "outputs": [],
   "source": [
    "def getPrediction(test_df):\n",
    "    ratinglist = []\n",
    "    globalAverage = 3.837538\n",
    "    for i in range(len(test_df)):\n",
    "        userid = test_df['reviewerID'][i]\n",
    "        itemid = test_df['itemId'][i]\n",
    "        if userid in userIdDict and itemid in itemIdDict:\n",
    "            rating = globalAverage+bu[userIdDict[userid]]+bi[itemIdDict[itemid]]#+np.dot(pu[userIdDict[userid],:],qi[:,itemIdDict[itemid]])\n",
    "        #elif itemid in uniqueitem:\n",
    "           # rating = globalAverage+bi[itemIdDict[itemid]]\n",
    "        #elif userid in uniqueuser:\n",
    "            #rating = globalAverage+bu[userIdDict[userid]]\n",
    "        else:\n",
    "            rating = globalAverage\n",
    "        ratinglist.append(rating)\n",
    "    test_df['prediction'] = ratinglist\n",
    "    return test_df['prediction']"
   ]
  },
  {
   "cell_type": "code",
   "execution_count": 37,
   "metadata": {
    "collapsed": true
   },
   "outputs": [],
   "source": [
    "predictions = open(\"predictions_Ratingsgd.txt\", 'w')\n",
    "pairs_Rating = []\n",
    "for l in open(\"pairs_Rating.txt\"):\n",
    "    if l.startswith(\"reviewerID\"):\n",
    "    #header\n",
    "        predictions.write(l)\n",
    "        continue\n",
    "    u,i = l.strip().split('-')\n",
    "    pairs_Rating.append([u,i])\n",
    "    #predictions.write(u + '-' + i + ',' + str(completedf['']) + '\\n')\n",
    "testrating = pd.DataFrame(pairs_Rating,columns=['reviewerID','itemId'])\n",
    "testrating['prediction'] = getPrediction(testrating)\n",
    "for i in range(len(testrating['prediction'])):\n",
    "    predictions.write(str(testrating['reviewerID'][i]) + '-' + str(testrating['itemId'][i]) + ',' + str(testrating['prediction'][i]) + '\\n')\n",
    "\n",
    "predictions.close()"
   ]
  },
  {
   "cell_type": "markdown",
   "metadata": {
    "collapsed": false
   },
   "source": [
    "# PREDICT HELPFULNESS\n"
   ]
  },
  {
   "cell_type": "markdown",
   "metadata": {},
   "source": [
    "To predict the helpfullness I used the following methods:\n",
    "    \n",
    "1) Linear Regression:\n",
    "I tried to use linear regression to check if there is a relationship  between the rating given by the user for\n",
    "a particular item in the review and the average rating of the item. Ideally a users rating would reflect his review and if a users rating is too different from the average rating given by other users, this might mean that the review is not helplful.\n",
    "I took the deviation of the users rating from the average rating. I plotted the deviation of the user vs the helpfulness of the rating. From the scatter plot and linear regression, I obtained the regression coefficient and based on this value, I tried to predict the rating helpfulness of the review.\n",
    "The above method returned worst results.\n",
    "\n",
    "2) Prediction based on useraverage and itemaverage:\n",
    "The second method I tried was to use userAverage and itemAverage to predict the users helpfulness. For every useritem pair, I took the average helpfulness of the user and then the average helpfulness of the item. I was able to beat the baseline with the above method.\n",
    "\n",
    "3) Prediction based on globalAverage,itemAverage,userAverage:\n",
    "The final method that I considered was to take all the three helpfulness average that is the globalaverage of helpfulness,users average helpfulness and items average helpfulness.\n"
   ]
  },
  {
   "cell_type": "code",
   "execution_count": 21,
   "metadata": {
    "collapsed": true
   },
   "outputs": [],
   "source": [
    "itemRatings = defaultdict(list)\n",
    "userRatings = defaultdict(list)\n",
    "allHelpful = []\n",
    "userHelpful = defaultdict(list)\n",
    "itemHelpful = defaultdict(list)\n",
    "\n",
    "for l in readJson('train.json'):\n",
    "    user,item,overall,helpful,outof,unixReviewTime = l['reviewerID'],l['asin'],float(l['overall']),float(l['helpful']['nHelpful']),float(l['helpful']['outOf']),int(l['unixReviewTime'])\n",
    "    review =[user,item,overall,(helpful/outof)]\n",
    "    userRatings[user].append(l['overall'])\n",
    "    itemRatings[item].append(l['overall'])\n",
    "    allHelpful.append(l['helpful'])\n",
    "    userHelpful[user].append(l['helpful'])\n",
    "    itemHelpful[item].append(l['helpful'])\n",
    "    allRatings.append(review)\n",
    "\n",
    "#completedf = pd.DataFrame(allRatings, columns = ['reviewerID','itemId','overall','helpful','outOf','unixReviewTime'])\n",
    "hdf = pd.DataFrame(allRatings, columns = ['reviewerID','itemId','overall','helpful'])"
   ]
  },
  {
   "cell_type": "code",
   "execution_count": 22,
   "metadata": {
    "collapsed": true
   },
   "outputs": [],
   "source": [
    "averageRate = sum([x['nHelpful'] for x in allHelpful]) * 1.0 / sum([x['outOf'] for x in allHelpful])\n",
    "userRate = {}\n",
    "itemRate = {}\n",
    "for u in userHelpful:\n",
    "    userRate[u] = sum([x['nHelpful'] for x in userHelpful[u]]) * 1.0 / sum([x['outOf'] for x in userHelpful[u]])\n",
    "for u in itemHelpful:\n",
    "    itemRate[u] = sum([x['nHelpful'] for x in itemHelpful[u]]) * 1.0 / sum([x['outOf'] for x in itemHelpful[u]])"
   ]
  },
  {
   "cell_type": "code",
   "execution_count": 24,
   "metadata": {
    "collapsed": false
   },
   "outputs": [],
   "source": [
    "itemAverage = {}\n",
    "diffFromItemAverage = []\n",
    "for i in itemRatings:\n",
    "    itemAverage[i] = sum(itemRatings[i])/len(itemRatings[i])\n",
    "\n",
    "for i in range(len(hdf)):\n",
    "    diff = abs(hdf['overall'][i]-itemAverage[hdf['itemId'][i]])\n",
    "    diffFromItemAverage.append(diff)\n",
    "hdf['deviation'] = diffFromItemAverage"
   ]
  },
  {
   "cell_type": "code",
   "execution_count": 26,
   "metadata": {
    "collapsed": false
   },
   "outputs": [
    {
     "data": {
      "image/png": "[encoded data removed]",
      "text/plain": [
       "<matplotlib.figure.Figure at 0x1859a8ad0>"
      ]
     },
     "metadata": {},
     "output_type": "display_data"
    },
    {
     "name": "stdout",
     "output_type": "stream",
     "text": [
      "                            OLS Regression Results                            \n",
      "==============================================================================\n",
      "Dep. Variable:                helpful   R-squared:                       0.408\n",
      "Model:                            OLS   Adj. R-squared:                  0.408\n",
      "Method:                 Least Squares   F-statistic:                 1.376e+06\n",
      "Date:                Sun, 17 Apr 2016   Prob (F-statistic):               0.00\n",
      "Time:                        22:56:13   Log-Likelihood:            -1.9322e+06\n",
      "No. Observations:             2000000   AIC:                         3.864e+06\n",
      "Df Residuals:                 1999999   BIC:                         3.864e+06\n",
      "Df Model:                           1                                         \n",
      "Covariance Type:            nonrobust                                         \n",
      "==============================================================================\n",
      "                 coef    std err          t      P>|t|      [95.0% Conf. Int.]\n",
      "------------------------------------------------------------------------------\n",
      "deviation      0.4252      0.000   1172.949      0.000         0.424     0.426\n",
      "==============================================================================\n",
      "Omnibus:                   193491.371   Durbin-Watson:                   1.298\n",
      "Prob(Omnibus):                  0.000   Jarque-Bera (JB):           256303.741\n",
      "Skew:                          -0.876   Prob(JB):                         0.00\n",
      "Kurtosis:                       3.078   Cond. No.                         1.00\n",
      "==============================================================================\n",
      "\n",
      "Warnings:\n",
      "[1] Standard Errors assume that the covariance matrix of the errors is correctly specified.\n"
     ]
    }
   ],
   "source": [
    "import numpy as np\n",
    "import statsmodels.api as sm\n",
    "import matplotlib.pyplot as plt\n",
    "from statsmodels.sandbox.regression.predstd import wls_prediction_std\n",
    "\n",
    "import statsmodels.formula.api as smf\n",
    "import pandas\n",
    "\n",
    "import seaborn as sns\n",
    "%matplotlib inline\n",
    "#newdf = completedf.head(1000)\n",
    "X = hdf['deviation']\n",
    "y = hdf['helpful']\n",
    "type(X)\n",
    "type(y)\n",
    "X.shape\n",
    "y.shape\n",
    "plt.scatter(X,y)\n",
    "plt.show()\n",
    "model = sm.OLS(y, X)\n",
    "results = model.fit()\n",
    "print(results.summary())\n"
   ]
  },
  {
   "cell_type": "markdown",
   "metadata": {},
   "source": [
    "In the below code I find the deviation for the items in the helpful.json and based on their deviation I predict their\n",
    "helpfulness."
   ]
  },
  {
   "cell_type": "code",
   "execution_count": 27,
   "metadata": {
    "collapsed": false
   },
   "outputs": [],
   "source": [
    "helpful_info = []\n",
    "predictionhelpfull = []\n",
    "for l in readJson('helpful.json'):\n",
    "    user,item,overall,outof= l['reviewerID'],l['asin'],float(l['overall']),float(l['outOf'])\n",
    "    review =[user,item,overall,outof]\n",
    "    helpful_info.append(review)\n",
    "helpfuldf =  pd.DataFrame(helpful_info, columns = ['reviewerID','itemId','overall','outof'])\n",
    "\n",
    "for i in range(len(helpfuldf)):\n",
    "    if helpfuldf['itemId'][i] in itemAverage:\n",
    "        deviation = abs(helpfuldf['overall'][i]-itemAverage[helpfuldf['itemId'][i]])\n",
    "        predictionhelpfull.append((deviation*0.4252)*helpfuldf['outof'][i]) \n",
    "    else:\n",
    "        predictionhelpfull.append(averageRate*helpfuldf['outof'][i])\n",
    "helpfuldf['predicthelpful'] = predictionhelpfull\n",
    "\n"
   ]
  },
  {
   "cell_type": "code",
   "execution_count": 33,
   "metadata": {
    "collapsed": false
   },
   "outputs": [
    {
     "data": {
      "text/html": [
       "<div>\n",
       "<table border=\"1\" class=\"dataframe\">\n",
       "  <thead>\n",
       "    <tr style=\"text-align: right;\">\n",
       "      <th></th>\n",
       "      <th>reviewerID</th>\n",
       "      <th>itemId</th>\n",
       "      <th>overall</th>\n",
       "      <th>outof</th>\n",
       "      <th>predicthelpful</th>\n",
       "    </tr>\n",
       "  </thead>\n",
       "  <tbody>\n",
       "    <tr>\n",
       "      <th>0</th>\n",
       "      <td>3f8e4e55ed9642e497530b5782d4a34aed9703613d2779...</td>\n",
       "      <td>8939d791e9dd035aa58da024ace69b20d651cea4adf615...</td>\n",
       "      <td>1</td>\n",
       "      <td>15</td>\n",
       "      <td>11.161500</td>\n",
       "    </tr>\n",
       "    <tr>\n",
       "      <th>1</th>\n",
       "      <td>b587571ff6586ce380f855823e4396582ed68fe82ff429...</td>\n",
       "      <td>6116d31a297ceb0f8f69f6f71e924e47136fc70c6f5bf7...</td>\n",
       "      <td>4</td>\n",
       "      <td>2</td>\n",
       "      <td>0.141733</td>\n",
       "    </tr>\n",
       "    <tr>\n",
       "      <th>2</th>\n",
       "      <td>1e3497448fcff0a0155f43434b65d4773644b862fd0bb7...</td>\n",
       "      <td>13132c29b5bca0c7d8521c57179b9b73c605989314477d...</td>\n",
       "      <td>5</td>\n",
       "      <td>4</td>\n",
       "      <td>2.664587</td>\n",
       "    </tr>\n",
       "    <tr>\n",
       "      <th>3</th>\n",
       "      <td>359fcfd1b6d053820af1cac1f2ffef7616d318d39e86c5...</td>\n",
       "      <td>13132c29b5bca0c7d8521c57179b9b73c605989314477d...</td>\n",
       "      <td>5</td>\n",
       "      <td>11</td>\n",
       "      <td>7.327613</td>\n",
       "    </tr>\n",
       "    <tr>\n",
       "      <th>4</th>\n",
       "      <td>50cbcf93ce240cd355dee473773c1f37fe4cc86a837ad2...</td>\n",
       "      <td>13132c29b5bca0c7d8521c57179b9b73c605989314477d...</td>\n",
       "      <td>4</td>\n",
       "      <td>1</td>\n",
       "      <td>0.240947</td>\n",
       "    </tr>\n",
       "    <tr>\n",
       "      <th>5</th>\n",
       "      <td>7aecac1da7487eca44a3a3f0ef24d160586bacd3e839f8...</td>\n",
       "      <td>13132c29b5bca0c7d8521c57179b9b73c605989314477d...</td>\n",
       "      <td>1</td>\n",
       "      <td>7</td>\n",
       "      <td>7.242573</td>\n",
       "    </tr>\n",
       "    <tr>\n",
       "      <th>6</th>\n",
       "      <td>8599932594cdda171152ded1c626809da86dbfc66ddba9...</td>\n",
       "      <td>13132c29b5bca0c7d8521c57179b9b73c605989314477d...</td>\n",
       "      <td>5</td>\n",
       "      <td>2</td>\n",
       "      <td>1.332293</td>\n",
       "    </tr>\n",
       "    <tr>\n",
       "      <th>7</th>\n",
       "      <td>77c9a7fdd74e4d18be8a132e985808c7620b934c01f19b...</td>\n",
       "      <td>13132c29b5bca0c7d8521c57179b9b73c605989314477d...</td>\n",
       "      <td>2</td>\n",
       "      <td>1</td>\n",
       "      <td>0.609453</td>\n",
       "    </tr>\n",
       "    <tr>\n",
       "      <th>8</th>\n",
       "      <td>5a2bf85c78cd74f1f26537e1537307ffb0b66dacdf24f2...</td>\n",
       "      <td>13132c29b5bca0c7d8521c57179b9b73c605989314477d...</td>\n",
       "      <td>5</td>\n",
       "      <td>1</td>\n",
       "      <td>0.666147</td>\n",
       "    </tr>\n",
       "    <tr>\n",
       "      <th>9</th>\n",
       "      <td>25f6cdaf1a6febfb97b2210a5a2e46a11539a43ce7e075...</td>\n",
       "      <td>13132c29b5bca0c7d8521c57179b9b73c605989314477d...</td>\n",
       "      <td>5</td>\n",
       "      <td>1</td>\n",
       "      <td>0.666147</td>\n",
       "    </tr>\n",
       "    <tr>\n",
       "      <th>10</th>\n",
       "      <td>daa929c58b83c82f7fe1146959d793658f6705e5b93fb2...</td>\n",
       "      <td>13132c29b5bca0c7d8521c57179b9b73c605989314477d...</td>\n",
       "      <td>5</td>\n",
       "      <td>1</td>\n",
       "      <td>0.666147</td>\n",
       "    </tr>\n",
       "    <tr>\n",
       "      <th>11</th>\n",
       "      <td>1c657a832559cb064fb1c23e8177102343360a5962e31f...</td>\n",
       "      <td>13132c29b5bca0c7d8521c57179b9b73c605989314477d...</td>\n",
       "      <td>4</td>\n",
       "      <td>1</td>\n",
       "      <td>0.240947</td>\n",
       "    </tr>\n",
       "    <tr>\n",
       "      <th>12</th>\n",
       "      <td>d36837db4fc6ce10eef314698f96cbdc1a7f112eba27cd...</td>\n",
       "      <td>a0fc21200b3dd1015fa10e01df535921a678f8db7c4c61...</td>\n",
       "      <td>5</td>\n",
       "      <td>14</td>\n",
       "      <td>8.333920</td>\n",
       "    </tr>\n",
       "    <tr>\n",
       "      <th>13</th>\n",
       "      <td>e02dc87192f3508ee246fb7f1516b093ee19f11126fd24...</td>\n",
       "      <td>362455b1ea124d0f5739a951824ab933ef39197c835391...</td>\n",
       "      <td>5</td>\n",
       "      <td>1</td>\n",
       "      <td>0.806108</td>\n",
       "    </tr>\n",
       "    <tr>\n",
       "      <th>14</th>\n",
       "      <td>993c9bd8d77edd31f27378e5cdf8b687141ab6999b0367...</td>\n",
       "      <td>362455b1ea124d0f5739a951824ab933ef39197c835391...</td>\n",
       "      <td>5</td>\n",
       "      <td>1</td>\n",
       "      <td>0.806108</td>\n",
       "    </tr>\n",
       "    <tr>\n",
       "      <th>15</th>\n",
       "      <td>227752bfd1a95f950e95ff0ec5e92da68fcf1c95c3d976...</td>\n",
       "      <td>362455b1ea124d0f5739a951824ab933ef39197c835391...</td>\n",
       "      <td>5</td>\n",
       "      <td>25</td>\n",
       "      <td>20.152708</td>\n",
       "    </tr>\n",
       "    <tr>\n",
       "      <th>16</th>\n",
       "      <td>297d4df83e482acfd88b33a527559816a6a55a13fa0a64...</td>\n",
       "      <td>2b00d8f92f7ff43c52beb472b4d561a1bcf232e757ef36...</td>\n",
       "      <td>2</td>\n",
       "      <td>4</td>\n",
       "      <td>4.009029</td>\n",
       "    </tr>\n",
       "    <tr>\n",
       "      <th>17</th>\n",
       "      <td>4cab5cec7fd42fa2222d996cd6b8e0f753abd9d9115251...</td>\n",
       "      <td>28f9bc49b7e55f784651d38f0912f235e2464d81d16ad5...</td>\n",
       "      <td>1</td>\n",
       "      <td>1</td>\n",
       "      <td>1.214857</td>\n",
       "    </tr>\n",
       "    <tr>\n",
       "      <th>18</th>\n",
       "      <td>4e2ae7616bc7fbbb0e2eef8d0ab4adea548c730f6de596...</td>\n",
       "      <td>28f9bc49b7e55f784651d38f0912f235e2464d81d16ad5...</td>\n",
       "      <td>5</td>\n",
       "      <td>3</td>\n",
       "      <td>1.457829</td>\n",
       "    </tr>\n",
       "    <tr>\n",
       "      <th>19</th>\n",
       "      <td>4e2e49f731bcc54809b60d1fa85533b134b66a44321f96...</td>\n",
       "      <td>e6020302c9f67b78973a80beaf7148bb525a2166712a01...</td>\n",
       "      <td>5</td>\n",
       "      <td>6</td>\n",
       "      <td>3.585470</td>\n",
       "    </tr>\n",
       "    <tr>\n",
       "      <th>20</th>\n",
       "      <td>9d0b92bbd467e1c97f51859f1ba6e742e9594575381880...</td>\n",
       "      <td>e6020302c9f67b78973a80beaf7148bb525a2166712a01...</td>\n",
       "      <td>2</td>\n",
       "      <td>4</td>\n",
       "      <td>2.712086</td>\n",
       "    </tr>\n",
       "    <tr>\n",
       "      <th>21</th>\n",
       "      <td>74ebe06bdb2d8e6db5176345526231159a823effd8fe90...</td>\n",
       "      <td>e6020302c9f67b78973a80beaf7148bb525a2166712a01...</td>\n",
       "      <td>5</td>\n",
       "      <td>7</td>\n",
       "      <td>4.183049</td>\n",
       "    </tr>\n",
       "    <tr>\n",
       "      <th>22</th>\n",
       "      <td>c345b967e92c60d550b317bc2d4ad2202db2febf155177...</td>\n",
       "      <td>e6020302c9f67b78973a80beaf7148bb525a2166712a01...</td>\n",
       "      <td>5</td>\n",
       "      <td>5</td>\n",
       "      <td>2.987892</td>\n",
       "    </tr>\n",
       "    <tr>\n",
       "      <th>23</th>\n",
       "      <td>a30c36776e647e0cb919ad40f1dcd7422e5fe6c6428fe4...</td>\n",
       "      <td>e6020302c9f67b78973a80beaf7148bb525a2166712a01...</td>\n",
       "      <td>2</td>\n",
       "      <td>3</td>\n",
       "      <td>2.034065</td>\n",
       "    </tr>\n",
       "    <tr>\n",
       "      <th>24</th>\n",
       "      <td>7485803d928f9d0326ed991b72b1a149a43e99880c9dec...</td>\n",
       "      <td>d1966cb77c93206e3a3814ab4eaf4c783422c7d5e60dce...</td>\n",
       "      <td>4</td>\n",
       "      <td>9</td>\n",
       "      <td>0.790317</td>\n",
       "    </tr>\n",
       "    <tr>\n",
       "      <th>25</th>\n",
       "      <td>3b2620218946da5c7229d20bf4bcfd9f7e2f5aa119ce5d...</td>\n",
       "      <td>d1966cb77c93206e3a3814ab4eaf4c783422c7d5e60dce...</td>\n",
       "      <td>5</td>\n",
       "      <td>5</td>\n",
       "      <td>2.565065</td>\n",
       "    </tr>\n",
       "    <tr>\n",
       "      <th>26</th>\n",
       "      <td>e293f91a6ace7eac6a363a44195e385b3a63d49efa9e13...</td>\n",
       "      <td>d1966cb77c93206e3a3814ab4eaf4c783422c7d5e60dce...</td>\n",
       "      <td>5</td>\n",
       "      <td>1</td>\n",
       "      <td>0.513013</td>\n",
       "    </tr>\n",
       "    <tr>\n",
       "      <th>27</th>\n",
       "      <td>b48d7090ea7ecb246a8a1d2f3c1f891007a112ec097af3...</td>\n",
       "      <td>d1966cb77c93206e3a3814ab4eaf4c783422c7d5e60dce...</td>\n",
       "      <td>1</td>\n",
       "      <td>2</td>\n",
       "      <td>2.375574</td>\n",
       "    </tr>\n",
       "    <tr>\n",
       "      <th>28</th>\n",
       "      <td>d3679fa1a2142bf578656144f00ff1e7d9178e86871c02...</td>\n",
       "      <td>d1966cb77c93206e3a3814ab4eaf4c783422c7d5e60dce...</td>\n",
       "      <td>5</td>\n",
       "      <td>3</td>\n",
       "      <td>1.539039</td>\n",
       "    </tr>\n",
       "    <tr>\n",
       "      <th>29</th>\n",
       "      <td>c8827c119b6d0a3bd9643785a5af299f233809cedc3bd6...</td>\n",
       "      <td>d1966cb77c93206e3a3814ab4eaf4c783422c7d5e60dce...</td>\n",
       "      <td>1</td>\n",
       "      <td>4</td>\n",
       "      <td>4.751148</td>\n",
       "    </tr>\n",
       "    <tr>\n",
       "      <th>...</th>\n",
       "      <td>...</td>\n",
       "      <td>...</td>\n",
       "      <td>...</td>\n",
       "      <td>...</td>\n",
       "      <td>...</td>\n",
       "    </tr>\n",
       "    <tr>\n",
       "      <th>99970</th>\n",
       "      <td>64f85dd6acc66b23c99215037e2c84e794bd0eb809a755...</td>\n",
       "      <td>8ad4f003f1fc4677e50f34e443fc35b4e0731077f02a86...</td>\n",
       "      <td>3</td>\n",
       "      <td>1</td>\n",
       "      <td>0.354333</td>\n",
       "    </tr>\n",
       "    <tr>\n",
       "      <th>99971</th>\n",
       "      <td>97a43595b0ec7d6d488fcc9cfc2c6bd35feacc67aeda40...</td>\n",
       "      <td>8ad4f003f1fc4677e50f34e443fc35b4e0731077f02a86...</td>\n",
       "      <td>5</td>\n",
       "      <td>1</td>\n",
       "      <td>0.496067</td>\n",
       "    </tr>\n",
       "    <tr>\n",
       "      <th>99972</th>\n",
       "      <td>b5f5120a29e6526eeec46f3522b549c659fdd736c47cd7...</td>\n",
       "      <td>8ad4f003f1fc4677e50f34e443fc35b4e0731077f02a86...</td>\n",
       "      <td>5</td>\n",
       "      <td>2</td>\n",
       "      <td>0.992133</td>\n",
       "    </tr>\n",
       "    <tr>\n",
       "      <th>99973</th>\n",
       "      <td>10b162aa7e64cfffa8985e223df806e234ced57c237332...</td>\n",
       "      <td>faa2634a0db985e7dba055bd640a47609df600a791fd4a...</td>\n",
       "      <td>4</td>\n",
       "      <td>17</td>\n",
       "      <td>1.445680</td>\n",
       "    </tr>\n",
       "    <tr>\n",
       "      <th>99974</th>\n",
       "      <td>94fa05a9350616bfcef515412206e9b12d1247fa708a3f...</td>\n",
       "      <td>d1e43ad2c13a6a763a305effc8e17c4a779a15f60bbd04...</td>\n",
       "      <td>5</td>\n",
       "      <td>2</td>\n",
       "      <td>0.850400</td>\n",
       "    </tr>\n",
       "    <tr>\n",
       "      <th>99975</th>\n",
       "      <td>bf32bf837191a374ba4c4ce9eefebf78ab0d73684ad98b...</td>\n",
       "      <td>d1e43ad2c13a6a763a305effc8e17c4a779a15f60bbd04...</td>\n",
       "      <td>5</td>\n",
       "      <td>9</td>\n",
       "      <td>3.826800</td>\n",
       "    </tr>\n",
       "    <tr>\n",
       "      <th>99976</th>\n",
       "      <td>82930f17b31eb16a096e2a903dc6b383772abc9b788e52...</td>\n",
       "      <td>d1e43ad2c13a6a763a305effc8e17c4a779a15f60bbd04...</td>\n",
       "      <td>2</td>\n",
       "      <td>4</td>\n",
       "      <td>3.401600</td>\n",
       "    </tr>\n",
       "    <tr>\n",
       "      <th>99977</th>\n",
       "      <td>a9029f5de70fdeeabf722d5507214809ccfc82c76af7d6...</td>\n",
       "      <td>828d6fa95ae7dc2f40986642eadac832be3f44ec0e270e...</td>\n",
       "      <td>5</td>\n",
       "      <td>3</td>\n",
       "      <td>1.822286</td>\n",
       "    </tr>\n",
       "    <tr>\n",
       "      <th>99978</th>\n",
       "      <td>b18e78615196bdd4cd8cad09be9bbab38c3c6e649c362c...</td>\n",
       "      <td>828d6fa95ae7dc2f40986642eadac832be3f44ec0e270e...</td>\n",
       "      <td>2</td>\n",
       "      <td>4</td>\n",
       "      <td>2.672686</td>\n",
       "    </tr>\n",
       "    <tr>\n",
       "      <th>99979</th>\n",
       "      <td>0ac76e171d4ba6420bbb05684ea0ac6ec190307a400a57...</td>\n",
       "      <td>135f5a03942254d4405b0815b3f069f4874c73885ebd12...</td>\n",
       "      <td>5</td>\n",
       "      <td>1</td>\n",
       "      <td>0.248033</td>\n",
       "    </tr>\n",
       "    <tr>\n",
       "      <th>99980</th>\n",
       "      <td>25688ad4aa88941e99183abdee386008dfdbb799024474...</td>\n",
       "      <td>4c504f680692e8d08bd28124ece299ea75e552375d8f5f...</td>\n",
       "      <td>4</td>\n",
       "      <td>4</td>\n",
       "      <td>0.850400</td>\n",
       "    </tr>\n",
       "    <tr>\n",
       "      <th>99981</th>\n",
       "      <td>b819248fc1a416b850c0f00de477345073227689497944...</td>\n",
       "      <td>4c504f680692e8d08bd28124ece299ea75e552375d8f5f...</td>\n",
       "      <td>4</td>\n",
       "      <td>16</td>\n",
       "      <td>3.401600</td>\n",
       "    </tr>\n",
       "    <tr>\n",
       "      <th>99982</th>\n",
       "      <td>4a8f54450e7be2322e946df014d23501d330a539397862...</td>\n",
       "      <td>4c504f680692e8d08bd28124ece299ea75e552375d8f5f...</td>\n",
       "      <td>4</td>\n",
       "      <td>27</td>\n",
       "      <td>5.740200</td>\n",
       "    </tr>\n",
       "    <tr>\n",
       "      <th>99983</th>\n",
       "      <td>e61ba85a7f8fcc34fa0a48965374311ac993c7682dfd86...</td>\n",
       "      <td>4c504f680692e8d08bd28124ece299ea75e552375d8f5f...</td>\n",
       "      <td>5</td>\n",
       "      <td>2</td>\n",
       "      <td>0.425200</td>\n",
       "    </tr>\n",
       "    <tr>\n",
       "      <th>99984</th>\n",
       "      <td>287d03969dd56b9686fd888377f29408c085f3349740c5...</td>\n",
       "      <td>00b736eed437c487b2052973c38788f71e225764ddd694...</td>\n",
       "      <td>5</td>\n",
       "      <td>3</td>\n",
       "      <td>1.013938</td>\n",
       "    </tr>\n",
       "    <tr>\n",
       "      <th>99985</th>\n",
       "      <td>de7a6c54eb359dfff30874182e40d61f49018f4b18bb0a...</td>\n",
       "      <td>00b736eed437c487b2052973c38788f71e225764ddd694...</td>\n",
       "      <td>5</td>\n",
       "      <td>5</td>\n",
       "      <td>1.689897</td>\n",
       "    </tr>\n",
       "    <tr>\n",
       "      <th>99986</th>\n",
       "      <td>466c876cf3983da9ce4f29edb46a9d519d589f4d0f1fc6...</td>\n",
       "      <td>00b736eed437c487b2052973c38788f71e225764ddd694...</td>\n",
       "      <td>5</td>\n",
       "      <td>2</td>\n",
       "      <td>0.675959</td>\n",
       "    </tr>\n",
       "    <tr>\n",
       "      <th>99987</th>\n",
       "      <td>6b3e82863bd78e92377dc2fecdf84a865991e135638250...</td>\n",
       "      <td>d10adb7ce47f9b9fab39166de882434856f335b8e21b63...</td>\n",
       "      <td>4</td>\n",
       "      <td>7</td>\n",
       "      <td>0.700329</td>\n",
       "    </tr>\n",
       "    <tr>\n",
       "      <th>99988</th>\n",
       "      <td>187d6d129c5f48433caf38528b49113de9420085faa652...</td>\n",
       "      <td>25856bcd41818638e8ef10002f1e32e72625faf4f628d8...</td>\n",
       "      <td>5</td>\n",
       "      <td>1</td>\n",
       "      <td>0.161283</td>\n",
       "    </tr>\n",
       "    <tr>\n",
       "      <th>99989</th>\n",
       "      <td>93cb1debd97c3704ff947fc9065496f87c12418d03f892...</td>\n",
       "      <td>397a4c5b8ed2d107ac1455e5fec689338571740ba429e1...</td>\n",
       "      <td>4</td>\n",
       "      <td>1</td>\n",
       "      <td>0.425200</td>\n",
       "    </tr>\n",
       "    <tr>\n",
       "      <th>99990</th>\n",
       "      <td>da9e1652acdc3cf282c0cb62b0966340f3671f96c783c4...</td>\n",
       "      <td>9dd40a8ae117ff8508e0ba19ad83c69c16a03ff418faf1...</td>\n",
       "      <td>5</td>\n",
       "      <td>1</td>\n",
       "      <td>0.332765</td>\n",
       "    </tr>\n",
       "    <tr>\n",
       "      <th>99991</th>\n",
       "      <td>3159bdf84d08f9c7c6a27616928068081165526c944a38...</td>\n",
       "      <td>9dd40a8ae117ff8508e0ba19ad83c69c16a03ff418faf1...</td>\n",
       "      <td>5</td>\n",
       "      <td>1</td>\n",
       "      <td>0.332765</td>\n",
       "    </tr>\n",
       "    <tr>\n",
       "      <th>99992</th>\n",
       "      <td>ad06bc9decc9fc843d934c59716536eef7ad6e208c9b71...</td>\n",
       "      <td>9dd40a8ae117ff8508e0ba19ad83c69c16a03ff418faf1...</td>\n",
       "      <td>5</td>\n",
       "      <td>1</td>\n",
       "      <td>0.332765</td>\n",
       "    </tr>\n",
       "    <tr>\n",
       "      <th>99993</th>\n",
       "      <td>b1ce653a08157ebd2303351e00c84c2537a3fefb8e2548...</td>\n",
       "      <td>9dd40a8ae117ff8508e0ba19ad83c69c16a03ff418faf1...</td>\n",
       "      <td>1</td>\n",
       "      <td>1</td>\n",
       "      <td>1.368035</td>\n",
       "    </tr>\n",
       "    <tr>\n",
       "      <th>99994</th>\n",
       "      <td>cdb51a733c5e816dcd5aed78a8ca902643ad336dcdce11...</td>\n",
       "      <td>9dd40a8ae117ff8508e0ba19ad83c69c16a03ff418faf1...</td>\n",
       "      <td>4</td>\n",
       "      <td>3</td>\n",
       "      <td>0.277304</td>\n",
       "    </tr>\n",
       "    <tr>\n",
       "      <th>99995</th>\n",
       "      <td>8c479b36304c4a41c46e1815f39c285d0b497d253efde1...</td>\n",
       "      <td>9dd40a8ae117ff8508e0ba19ad83c69c16a03ff418faf1...</td>\n",
       "      <td>5</td>\n",
       "      <td>1</td>\n",
       "      <td>0.332765</td>\n",
       "    </tr>\n",
       "    <tr>\n",
       "      <th>99996</th>\n",
       "      <td>977deaa6b597c7c142bfe4abac17ce3241d810fd64c2ad...</td>\n",
       "      <td>ce9a5dab429e84b439005ccc3b09debb2c905a5c5a4d8d...</td>\n",
       "      <td>5</td>\n",
       "      <td>1</td>\n",
       "      <td>0.318900</td>\n",
       "    </tr>\n",
       "    <tr>\n",
       "      <th>99997</th>\n",
       "      <td>e954452dc5a2ad904b2722675a9be7078c06607434022c...</td>\n",
       "      <td>f611539f00da4c1bc0cfdbce30cc9969026fc22301bd54...</td>\n",
       "      <td>5</td>\n",
       "      <td>2</td>\n",
       "      <td>0.000000</td>\n",
       "    </tr>\n",
       "    <tr>\n",
       "      <th>99998</th>\n",
       "      <td>d769097cccf2c6606ca29767036c965157f50faf273181...</td>\n",
       "      <td>00f5f3fbed4c28cc07bb0b8d844b770ff4b7bfdd558cfd...</td>\n",
       "      <td>5</td>\n",
       "      <td>1</td>\n",
       "      <td>0.318900</td>\n",
       "    </tr>\n",
       "    <tr>\n",
       "      <th>99999</th>\n",
       "      <td>1653e7ae9780bb1a48e462e7231818182afeb9a3cdcc0e...</td>\n",
       "      <td>00f5f3fbed4c28cc07bb0b8d844b770ff4b7bfdd558cfd...</td>\n",
       "      <td>3</td>\n",
       "      <td>13</td>\n",
       "      <td>6.909500</td>\n",
       "    </tr>\n",
       "  </tbody>\n",
       "</table>\n",
       "<p>100000 rows × 5 columns</p>\n",
       "</div>"
      ],
      "text/plain": [
       "                                              reviewerID  \\\n",
       "0      3f8e4e55ed9642e497530b5782d4a34aed9703613d2779...   \n",
       "1      b587571ff6586ce380f855823e4396582ed68fe82ff429...   \n",
       "2      1e3497448fcff0a0155f43434b65d4773644b862fd0bb7...   \n",
       "3      359fcfd1b6d053820af1cac1f2ffef7616d318d39e86c5...   \n",
       "4      50cbcf93ce240cd355dee473773c1f37fe4cc86a837ad2...   \n",
       "5      7aecac1da7487eca44a3a3f0ef24d160586bacd3e839f8...   \n",
       "6      8599932594cdda171152ded1c626809da86dbfc66ddba9...   \n",
       "7      77c9a7fdd74e4d18be8a132e985808c7620b934c01f19b...   \n",
       "8      5a2bf85c78cd74f1f26537e1537307ffb0b66dacdf24f2...   \n",
       "9      25f6cdaf1a6febfb97b2210a5a2e46a11539a43ce7e075...   \n",
       "10     daa929c58b83c82f7fe1146959d793658f6705e5b93fb2...   \n",
       "11     1c657a832559cb064fb1c23e8177102343360a5962e31f...   \n",
       "12     d36837db4fc6ce10eef314698f96cbdc1a7f112eba27cd...   \n",
       "13     e02dc87192f3508ee246fb7f1516b093ee19f11126fd24...   \n",
       "14     993c9bd8d77edd31f27378e5cdf8b687141ab6999b0367...   \n",
       "15     227752bfd1a95f950e95ff0ec5e92da68fcf1c95c3d976...   \n",
       "16     297d4df83e482acfd88b33a527559816a6a55a13fa0a64...   \n",
       "17     4cab5cec7fd42fa2222d996cd6b8e0f753abd9d9115251...   \n",
       "18     4e2ae7616bc7fbbb0e2eef8d0ab4adea548c730f6de596...   \n",
       "19     4e2e49f731bcc54809b60d1fa85533b134b66a44321f96...   \n",
       "20     9d0b92bbd467e1c97f51859f1ba6e742e9594575381880...   \n",
       "21     74ebe06bdb2d8e6db5176345526231159a823effd8fe90...   \n",
       "22     c345b967e92c60d550b317bc2d4ad2202db2febf155177...   \n",
       "23     a30c36776e647e0cb919ad40f1dcd7422e5fe6c6428fe4...   \n",
       "24     7485803d928f9d0326ed991b72b1a149a43e99880c9dec...   \n",
       "25     3b2620218946da5c7229d20bf4bcfd9f7e2f5aa119ce5d...   \n",
       "26     e293f91a6ace7eac6a363a44195e385b3a63d49efa9e13...   \n",
       "27     b48d7090ea7ecb246a8a1d2f3c1f891007a112ec097af3...   \n",
       "28     d3679fa1a2142bf578656144f00ff1e7d9178e86871c02...   \n",
       "29     c8827c119b6d0a3bd9643785a5af299f233809cedc3bd6...   \n",
       "...                                                  ...   \n",
       "99970  64f85dd6acc66b23c99215037e2c84e794bd0eb809a755...   \n",
       "99971  97a43595b0ec7d6d488fcc9cfc2c6bd35feacc67aeda40...   \n",
       "99972  b5f5120a29e6526eeec46f3522b549c659fdd736c47cd7...   \n",
       "99973  10b162aa7e64cfffa8985e223df806e234ced57c237332...   \n",
       "99974  94fa05a9350616bfcef515412206e9b12d1247fa708a3f...   \n",
       "99975  bf32bf837191a374ba4c4ce9eefebf78ab0d73684ad98b...   \n",
       "99976  82930f17b31eb16a096e2a903dc6b383772abc9b788e52...   \n",
       "99977  a9029f5de70fdeeabf722d5507214809ccfc82c76af7d6...   \n",
       "99978  b18e78615196bdd4cd8cad09be9bbab38c3c6e649c362c...   \n",
       "99979  0ac76e171d4ba6420bbb05684ea0ac6ec190307a400a57...   \n",
       "99980  25688ad4aa88941e99183abdee386008dfdbb799024474...   \n",
       "99981  b819248fc1a416b850c0f00de477345073227689497944...   \n",
       "99982  4a8f54450e7be2322e946df014d23501d330a539397862...   \n",
       "99983  e61ba85a7f8fcc34fa0a48965374311ac993c7682dfd86...   \n",
       "99984  287d03969dd56b9686fd888377f29408c085f3349740c5...   \n",
       "99985  de7a6c54eb359dfff30874182e40d61f49018f4b18bb0a...   \n",
       "99986  466c876cf3983da9ce4f29edb46a9d519d589f4d0f1fc6...   \n",
       "99987  6b3e82863bd78e92377dc2fecdf84a865991e135638250...   \n",
       "99988  187d6d129c5f48433caf38528b49113de9420085faa652...   \n",
       "99989  93cb1debd97c3704ff947fc9065496f87c12418d03f892...   \n",
       "99990  da9e1652acdc3cf282c0cb62b0966340f3671f96c783c4...   \n",
       "99991  3159bdf84d08f9c7c6a27616928068081165526c944a38...   \n",
       "99992  ad06bc9decc9fc843d934c59716536eef7ad6e208c9b71...   \n",
       "99993  b1ce653a08157ebd2303351e00c84c2537a3fefb8e2548...   \n",
       "99994  cdb51a733c5e816dcd5aed78a8ca902643ad336dcdce11...   \n",
       "99995  8c479b36304c4a41c46e1815f39c285d0b497d253efde1...   \n",
       "99996  977deaa6b597c7c142bfe4abac17ce3241d810fd64c2ad...   \n",
       "99997  e954452dc5a2ad904b2722675a9be7078c06607434022c...   \n",
       "99998  d769097cccf2c6606ca29767036c965157f50faf273181...   \n",
       "99999  1653e7ae9780bb1a48e462e7231818182afeb9a3cdcc0e...   \n",
       "\n",
       "                                                  itemId  overall  outof  \\\n",
       "0      8939d791e9dd035aa58da024ace69b20d651cea4adf615...        1     15   \n",
       "1      6116d31a297ceb0f8f69f6f71e924e47136fc70c6f5bf7...        4      2   \n",
       "2      13132c29b5bca0c7d8521c57179b9b73c605989314477d...        5      4   \n",
       "3      13132c29b5bca0c7d8521c57179b9b73c605989314477d...        5     11   \n",
       "4      13132c29b5bca0c7d8521c57179b9b73c605989314477d...        4      1   \n",
       "5      13132c29b5bca0c7d8521c57179b9b73c605989314477d...        1      7   \n",
       "6      13132c29b5bca0c7d8521c57179b9b73c605989314477d...        5      2   \n",
       "7      13132c29b5bca0c7d8521c57179b9b73c605989314477d...        2      1   \n",
       "8      13132c29b5bca0c7d8521c57179b9b73c605989314477d...        5      1   \n",
       "9      13132c29b5bca0c7d8521c57179b9b73c605989314477d...        5      1   \n",
       "10     13132c29b5bca0c7d8521c57179b9b73c605989314477d...        5      1   \n",
       "11     13132c29b5bca0c7d8521c57179b9b73c605989314477d...        4      1   \n",
       "12     a0fc21200b3dd1015fa10e01df535921a678f8db7c4c61...        5     14   \n",
       "13     362455b1ea124d0f5739a951824ab933ef39197c835391...        5      1   \n",
       "14     362455b1ea124d0f5739a951824ab933ef39197c835391...        5      1   \n",
       "15     362455b1ea124d0f5739a951824ab933ef39197c835391...        5     25   \n",
       "16     2b00d8f92f7ff43c52beb472b4d561a1bcf232e757ef36...        2      4   \n",
       "17     28f9bc49b7e55f784651d38f0912f235e2464d81d16ad5...        1      1   \n",
       "18     28f9bc49b7e55f784651d38f0912f235e2464d81d16ad5...        5      3   \n",
       "19     e6020302c9f67b78973a80beaf7148bb525a2166712a01...        5      6   \n",
       "20     e6020302c9f67b78973a80beaf7148bb525a2166712a01...        2      4   \n",
       "21     e6020302c9f67b78973a80beaf7148bb525a2166712a01...        5      7   \n",
       "22     e6020302c9f67b78973a80beaf7148bb525a2166712a01...        5      5   \n",
       "23     e6020302c9f67b78973a80beaf7148bb525a2166712a01...        2      3   \n",
       "24     d1966cb77c93206e3a3814ab4eaf4c783422c7d5e60dce...        4      9   \n",
       "25     d1966cb77c93206e3a3814ab4eaf4c783422c7d5e60dce...        5      5   \n",
       "26     d1966cb77c93206e3a3814ab4eaf4c783422c7d5e60dce...        5      1   \n",
       "27     d1966cb77c93206e3a3814ab4eaf4c783422c7d5e60dce...        1      2   \n",
       "28     d1966cb77c93206e3a3814ab4eaf4c783422c7d5e60dce...        5      3   \n",
       "29     d1966cb77c93206e3a3814ab4eaf4c783422c7d5e60dce...        1      4   \n",
       "...                                                  ...      ...    ...   \n",
       "99970  8ad4f003f1fc4677e50f34e443fc35b4e0731077f02a86...        3      1   \n",
       "99971  8ad4f003f1fc4677e50f34e443fc35b4e0731077f02a86...        5      1   \n",
       "99972  8ad4f003f1fc4677e50f34e443fc35b4e0731077f02a86...        5      2   \n",
       "99973  faa2634a0db985e7dba055bd640a47609df600a791fd4a...        4     17   \n",
       "99974  d1e43ad2c13a6a763a305effc8e17c4a779a15f60bbd04...        5      2   \n",
       "99975  d1e43ad2c13a6a763a305effc8e17c4a779a15f60bbd04...        5      9   \n",
       "99976  d1e43ad2c13a6a763a305effc8e17c4a779a15f60bbd04...        2      4   \n",
       "99977  828d6fa95ae7dc2f40986642eadac832be3f44ec0e270e...        5      3   \n",
       "99978  828d6fa95ae7dc2f40986642eadac832be3f44ec0e270e...        2      4   \n",
       "99979  135f5a03942254d4405b0815b3f069f4874c73885ebd12...        5      1   \n",
       "99980  4c504f680692e8d08bd28124ece299ea75e552375d8f5f...        4      4   \n",
       "99981  4c504f680692e8d08bd28124ece299ea75e552375d8f5f...        4     16   \n",
       "99982  4c504f680692e8d08bd28124ece299ea75e552375d8f5f...        4     27   \n",
       "99983  4c504f680692e8d08bd28124ece299ea75e552375d8f5f...        5      2   \n",
       "99984  00b736eed437c487b2052973c38788f71e225764ddd694...        5      3   \n",
       "99985  00b736eed437c487b2052973c38788f71e225764ddd694...        5      5   \n",
       "99986  00b736eed437c487b2052973c38788f71e225764ddd694...        5      2   \n",
       "99987  d10adb7ce47f9b9fab39166de882434856f335b8e21b63...        4      7   \n",
       "99988  25856bcd41818638e8ef10002f1e32e72625faf4f628d8...        5      1   \n",
       "99989  397a4c5b8ed2d107ac1455e5fec689338571740ba429e1...        4      1   \n",
       "99990  9dd40a8ae117ff8508e0ba19ad83c69c16a03ff418faf1...        5      1   \n",
       "99991  9dd40a8ae117ff8508e0ba19ad83c69c16a03ff418faf1...        5      1   \n",
       "99992  9dd40a8ae117ff8508e0ba19ad83c69c16a03ff418faf1...        5      1   \n",
       "99993  9dd40a8ae117ff8508e0ba19ad83c69c16a03ff418faf1...        1      1   \n",
       "99994  9dd40a8ae117ff8508e0ba19ad83c69c16a03ff418faf1...        4      3   \n",
       "99995  9dd40a8ae117ff8508e0ba19ad83c69c16a03ff418faf1...        5      1   \n",
       "99996  ce9a5dab429e84b439005ccc3b09debb2c905a5c5a4d8d...        5      1   \n",
       "99997  f611539f00da4c1bc0cfdbce30cc9969026fc22301bd54...        5      2   \n",
       "99998  00f5f3fbed4c28cc07bb0b8d844b770ff4b7bfdd558cfd...        5      1   \n",
       "99999  00f5f3fbed4c28cc07bb0b8d844b770ff4b7bfdd558cfd...        3     13   \n",
       "\n",
       "       predicthelpful  \n",
       "0           11.161500  \n",
       "1            0.141733  \n",
       "2            2.664587  \n",
       "3            7.327613  \n",
       "4            0.240947  \n",
       "5            7.242573  \n",
       "6            1.332293  \n",
       "7            0.609453  \n",
       "8            0.666147  \n",
       "9            0.666147  \n",
       "10           0.666147  \n",
       "11           0.240947  \n",
       "12           8.333920  \n",
       "13           0.806108  \n",
       "14           0.806108  \n",
       "15          20.152708  \n",
       "16           4.009029  \n",
       "17           1.214857  \n",
       "18           1.457829  \n",
       "19           3.585470  \n",
       "20           2.712086  \n",
       "21           4.183049  \n",
       "22           2.987892  \n",
       "23           2.034065  \n",
       "24           0.790317  \n",
       "25           2.565065  \n",
       "26           0.513013  \n",
       "27           2.375574  \n",
       "28           1.539039  \n",
       "29           4.751148  \n",
       "...               ...  \n",
       "99970        0.354333  \n",
       "99971        0.496067  \n",
       "99972        0.992133  \n",
       "99973        1.445680  \n",
       "99974        0.850400  \n",
       "99975        3.826800  \n",
       "99976        3.401600  \n",
       "99977        1.822286  \n",
       "99978        2.672686  \n",
       "99979        0.248033  \n",
       "99980        0.850400  \n",
       "99981        3.401600  \n",
       "99982        5.740200  \n",
       "99983        0.425200  \n",
       "99984        1.013938  \n",
       "99985        1.689897  \n",
       "99986        0.675959  \n",
       "99987        0.700329  \n",
       "99988        0.161283  \n",
       "99989        0.425200  \n",
       "99990        0.332765  \n",
       "99991        0.332765  \n",
       "99992        0.332765  \n",
       "99993        1.368035  \n",
       "99994        0.277304  \n",
       "99995        0.332765  \n",
       "99996        0.318900  \n",
       "99997        0.000000  \n",
       "99998        0.318900  \n",
       "99999        6.909500  \n",
       "\n",
       "[100000 rows x 5 columns]"
      ]
     },
     "execution_count": 33,
     "metadata": {},
     "output_type": "execute_result"
    }
   ],
   "source": [
    "helpfuldf"
   ]
  },
  {
   "cell_type": "code",
   "execution_count": 28,
   "metadata": {
    "collapsed": false
   },
   "outputs": [],
   "source": [
    "count = 0\n",
    "predictions = open(\"predictions_Helpful_linear.txt\", 'w')\n",
    "for l in open(\"pairs_Helpful.txt\"):\n",
    "    if l.startswith(\"reviewerID\"):\n",
    "    #header\n",
    "        predictions.write(l)\n",
    "        continue\n",
    "    u,i,outOf = l.strip().split('-')\n",
    "    predictions.write(u + '-' + i + '-' + str(outOf) + ',' + str((helpfuldf['predicthelpful'][count])) + '\\n')\n",
    "    count+=1\n",
    "predictions.close()"
   ]
  },
  {
   "cell_type": "code",
   "execution_count": null,
   "metadata": {
    "collapsed": true
   },
   "outputs": [],
   "source": []
  },
  {
   "cell_type": "markdown",
   "metadata": {},
   "source": [
    "Code for second method with averages."
   ]
  },
  {
   "cell_type": "code",
   "execution_count": 29,
   "metadata": {
    "collapsed": true
   },
   "outputs": [],
   "source": [
    "predictions = open(\"predictions_Helpful_average.txt\", 'w')\n",
    "for l in open(\"pairs_Helpful.txt\"):\n",
    "    if l.startswith(\"reviewerID\"):\n",
    "    #header\n",
    "        predictions.write(l)\n",
    "        continue\n",
    "    u,i,outOf = l.strip().split('-')\n",
    "    outOf = int(outOf)\n",
    "    if u in userRate and i in itemRate:\n",
    "        predictions.write(u + '-' + i + '-' + str(outOf) + ',' + str((outOf*userRate[u]+outOf*itemRate[i])/2) + '\\n')\n",
    "    elif u in userRate:\n",
    "        predictions.write(u + '-' + i + '-' + str(outOf) + ',' + str(outOf*userRate[u]) + '\\n')\n",
    "    elif i in itemRate:\n",
    "        predictions.write(u + '-' + i + '-' + str(outOf) + ',' + str(outOf*itemRate[i]) + '\\n')\n",
    "    else:\n",
    "        predictions.write(u + '-' + i + '-' + str(outOf) + ',' + str(outOf*averageRate) + '\\n')\n",
    "predictions.close()"
   ]
  },
  {
   "cell_type": "code",
   "execution_count": null,
   "metadata": {
    "collapsed": true
   },
   "outputs": [],
   "source": []
  },
  {
   "cell_type": "markdown",
   "metadata": {},
   "source": [
    "By taking a global average. This produced the best results among the above three."
   ]
  },
  {
   "cell_type": "code",
   "execution_count": 30,
   "metadata": {
    "collapsed": true
   },
   "outputs": [],
   "source": [
    "predictions = open(\"predictions_Helpful_averagewithglobal.txt\", 'w')\n",
    "for l in open(\"pairs_Helpful.txt\"):\n",
    "    if l.startswith(\"reviewerID\"):\n",
    "    #header\n",
    "        predictions.write(l)\n",
    "        continue\n",
    "    u,i,outOf = l.strip().split('-')\n",
    "    outOf = int(outOf)\n",
    "    if u in userRate and i in itemRate:\n",
    "        predictions.write(u + '-' + i + '-' + str(outOf) + ',' + str((outOf*averageRate+outOf*userRate[u]+outOf*itemRate[i])/3) + '\\n')\n",
    "    elif u in userRate:\n",
    "        predictions.write(u + '-' + i + '-' + str(outOf) + ',' + str((outOf*userRate[u]+outOf*averageRate)/2) + '\\n')\n",
    "    elif i in itemRate:\n",
    "        predictions.write(u + '-' + i + '-' + str(outOf) + ',' + str((outOf*itemRate[i]+outOf*averageRate)/2) + '\\n')\n",
    "    else:\n",
    "        predictions.write(u + '-' + i + '-' + str(outOf) + ',' + str(outOf*averageRate) + '\\n')\n",
    "predictions.close()"
   ]
  },
  {
   "cell_type": "markdown",
   "metadata": {},
   "source": []
  },
  {
   "cell_type": "markdown",
   "metadata": {
    "collapsed": true
   },
   "source": [
    " # Purchase prediction\n",
    "    "
   ]
  },
  {
   "cell_type": "markdown",
   "metadata": {},
   "source": [
    "Purchase prediction:\n",
    "    \n",
    "1) Using averages and fixing the sorting order\n",
    "In purchase prediction I improved the baseline result by sorting the item data in decreasing order of the number of items bought. If a item has been bought frequently, then there is more likelihood of the user buying the item. This is independent of the preference of the user for the item.\n",
    "\n",
    "I took the items that account for various percentage of the total items bought. i.e The factor to be multiplied into the totalPurchases below and arrived at different predictions for purchase. Considering the items that account for around 90% of the data gave me good results.\n",
    "\n",
    "2) Using the prediction obtained from SGD and considering higher predicted ratings as higher likelihood of purchase\n",
    "second method for the above problem would be to consider the user and item rating based on SGD. If the user-item rating is high and the item is popular then we can rate the item as bought. If the user-item rating is low or the item is not popular then we can rate the item as low. The code for the second methond has not been written. The above method was able to beat the baseline. By improving the results obtained based on SGD, this prediction could be improved."
   ]
  },
  {
   "cell_type": "code",
   "execution_count": 34,
   "metadata": {
    "collapsed": false
   },
   "outputs": [
    {
     "name": "stdout",
     "output_type": "stream",
     "text": [
      "<type 'list'>\n"
     ]
    }
   ],
   "source": [
    "itemCount = defaultdict(int)\n",
    "totalPurchases = 0\n",
    "\n",
    "for l in readJson('train.json'):\n",
    "    user,item = l['reviewerID'],l['asin']\n",
    "    itemCount[item] += 1\n",
    "    totalPurchases += 1\n",
    "\n",
    "mostPopular = [(itemCount[x], x) for x in itemCount]\n",
    "mostPopular.sort(reverse=True)\n",
    "print type(mostPopular)"
   ]
  },
  {
   "cell_type": "code",
   "execution_count": 35,
   "metadata": {
    "collapsed": false
   },
   "outputs": [],
   "source": [
    "return1 = set()\n",
    "count = 0\n",
    "\n",
    "for ic, i in mostPopular:\n",
    "    count += ic\n",
    "    return1.add(i)\n",
    "    if count > (0.9*totalPurchases): \n",
    "        break\n",
    "\n",
    "\n",
    "predictions = open(\"predictions_Purchase.txt\", 'w')\n",
    "for l in open(\"pairs_Purchase.txt\"):\n",
    "    if l.startswith(\"reviewerID\"):\n",
    "        #header\n",
    "        predictions.write(l)\n",
    "        continue\n",
    "    u,i = l.strip().split('-')\n",
    "    if i in return1:\n",
    "        predictions.write(u + '-' + i + \",1\\n\")\n",
    "    else:\n",
    "        predictions.write(u + '-' + i + \",0\\n\")\n",
    "predictions.close()"
   ]
  },
  {
   "cell_type": "code",
   "execution_count": null,
   "metadata": {
    "collapsed": true
   },
   "outputs": [],
   "source": [
    "The following method uses the prediction based on SGD"
   ]
  },
  {
   "cell_type": "code",
   "execution_count": 36,
   "metadata": {
    "collapsed": false
   },
   "outputs": [],
   "source": [
    "predictions = open(\"predictions_PurchaseWithRating.txt\", 'w')\n",
    "pairs_Rating = []\n",
    "for l in open(\"pairs_Purchase.txt\"):\n",
    "    if l.startswith(\"reviewerID\"):\n",
    "    #header\n",
    "        predictions.write(l)\n",
    "        continue\n",
    "    u,i = l.strip().split('-')\n",
    "    pairs_Rating.append([u,i])\n",
    "    #predictions.write(u + '-' + i + ',' + str(completedf['']) + '\\n')\n",
    "testrating = pd.DataFrame(pairs_Rating,columns=['reviewerID','itemId'])\n",
    "testrating['prediction'] = getPrediction(testrating)\n",
    "for i in range(len(testrating['prediction'])):\n",
    "    if testrating['prediction'][i] > 4 or testrating['itemId'][i] in return1:\n",
    "        predictions.write(str(testrating['reviewerID'][i]) + '-' + str(testrating['itemId'][i]) + ',' + str(1) + '\\n')\n",
    "    else:\n",
    "        predictions.write(str(testrating['reviewerID'][i]) + '-' + str(testrating['itemId'][i]) + ',' + str(0) + '\\n')\n",
    "\n",
    "predictions.close()"
   ]
  },
  {
   "cell_type": "code",
   "execution_count": null,
   "metadata": {
    "collapsed": false
   },
   "outputs": [],
   "source": [
    "# Code for setting the style of the notebook\n",
    "from IPython.core.display import HTML\n",
    "def css_styling():\n",
    "    styles = open(\"../theme/custom.css\", \"r\").read()\n",
    "    return HTML(styles)\n",
    "css_styling()"
   ]
  }
 ],
 "metadata": {
  "kernelspec": {
   "display_name": "Python 2",
   "language": "python",
   "name": "python2"
  },
  "language_info": {
   "codemirror_mode": {
    "name": "ipython",
    "version": 2
   },
   "file_extension": ".py",
   "mimetype": "text/x-python",
   "name": "python",
   "nbconvert_exporter": "python",
   "pygments_lexer": "ipython2",
   "version": "2.7.11"
  }
 },
 "nbformat": 4,
 "nbformat_minor": 0
}
